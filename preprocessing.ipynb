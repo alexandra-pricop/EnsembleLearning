{
 "cells": [
  {
   "cell_type": "code",
   "execution_count": 23,
   "metadata": {},
   "outputs": [],
   "source": [
    "import pandas as pd\n",
    "import numpy as np\n",
    "import seaborn as sns\n",
    "from sklearn.decomposition import PCA\n",
    "import matplotlib.pyplot as plt\n",
    "x_train = pd.read_csv('X_train_NHkHMNU.csv')\n",
    "y_train = pd.read_csv('y_train_ZAN5mwg.csv')\n",
    "x_test =  pd.read_csv('X_test_final.csv')\n",
    "\n",
    "pd.set_option('display.max_columns', None)\n",
    "from sklearn.impute import KNNImputer\n",
    "\n"
   ]
  },
  {
   "cell_type": "code",
   "execution_count": 24,
   "metadata": {},
   "outputs": [],
   "source": [
    "def preprocessing(dataset):\n",
    "\n",
    "    dataset = pd.get_dummies(dataset, columns=['COUNTRY'])\n",
    "    placeholder_value = -9999\n",
    "    dataset_filled = dataset.fillna(placeholder_value)\n",
    "    columns_to_impute = dataset_filled.columns\n",
    "    imputer = KNNImputer(n_neighbors=5)\n",
    "    dataset_filled.replace(placeholder_value, float('nan'), inplace=True)\n",
    "    return pd.DataFrame(imputer.fit_transform(dataset_filled), columns=columns_to_impute)\n",
    "\n",
    "x_train_imputed = preprocessing(x_train)\n",
    "x_test_imputed = preprocessing(x_test)\n",
    "\n",
    "\n"
   ]
  },
  {
   "cell_type": "code",
   "execution_count": null,
   "metadata": {},
   "outputs": [],
   "source": []
  }
 ],
 "metadata": {
  "kernelspec": {
   "display_name": "base",
   "language": "python",
   "name": "python3"
  },
  "language_info": {
   "codemirror_mode": {
    "name": "ipython",
    "version": 3
   },
   "file_extension": ".py",
   "mimetype": "text/x-python",
   "name": "python",
   "nbconvert_exporter": "python",
   "pygments_lexer": "ipython3",
   "version": "3.11.4"
  }
 },
 "nbformat": 4,
 "nbformat_minor": 2
}
