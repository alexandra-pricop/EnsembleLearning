{
 "cells": [
  {
   "cell_type": "code",
   "execution_count": 12,
   "metadata": {},
   "outputs": [],
   "source": [
    "import pandas as pd\n",
    "import numpy as np\n",
    "import seaborn as sns\n",
    "from sklearn.decomposition import PCA\n",
    "import matplotlib.pyplot as plt\n",
    "x_train = pd.read_csv('X_train_NHkHMNU.csv')\n",
    "y_train = pd.read_csv('y_train_ZAN5mwg.csv')\n",
    "x_test =  pd.read_csv('X_test_final.csv')\n",
    "\n",
    "pd.set_option('display.max_columns', None)\n",
    "from sklearn.impute import KNNImputer\n",
    "\n"
   ]
  },
  {
   "cell_type": "code",
   "execution_count": 14,
   "metadata": {},
   "outputs": [],
   "source": [
    "x_train = pd.get_dummies(x_train, columns=['COUNTRY'])\n"
   ]
  },
  {
   "cell_type": "code",
   "execution_count": 16,
   "metadata": {},
   "outputs": [],
   "source": [
    "placeholder_value = -9999\n",
    "\n",
    "x_train_filled = x_train.fillna(placeholder_value)\n",
    "\n",
    "columns_to_impute = x_train_filled.columns\n",
    "\n",
    "imputer = KNNImputer(n_neighbors=5)\n",
    "\n",
    "x_train_imputed = pd.DataFrame(imputer.fit_transform(x_train_filled), columns=columns_to_impute)\n",
    "\n"
   ]
  },
  {
   "cell_type": "code",
   "execution_count": 21,
   "metadata": {},
   "outputs": [],
   "source": [
    "x_test = pd.get_dummies(x_test, columns=['COUNTRY'])\n",
    "\n",
    "placeholder_value = -9999\n",
    "\n",
    "x_test_filled = x_test.fillna(placeholder_value)\n",
    "\n",
    "columns_to_impute = x_test_filled.columns\n",
    "\n",
    "imputer = KNNImputer(n_neighbors=5)\n",
    "\n",
    "x_test_imputed = pd.DataFrame(imputer.fit_transform(x_test_filled), columns=columns_to_impute)"
   ]
  },
  {
   "cell_type": "code",
   "execution_count": 23,
   "metadata": {},
   "outputs": [
    {
     "data": {
      "text/plain": [
       "Series([], dtype: int64)"
      ]
     },
     "execution_count": 23,
     "metadata": {},
     "output_type": "execute_result"
    }
   ],
   "source": [
    "missing_values = x_test_imputed.isnull().sum()\n",
    "\n",
    "# Filtering out columns with no missing values to focus on those with missing values\n",
    "missing_values = missing_values[missing_values > 0]\n",
    "\n",
    "missing_values"
   ]
  },
  {
   "cell_type": "code",
   "execution_count": null,
   "metadata": {},
   "outputs": [],
   "source": []
  }
 ],
 "metadata": {
  "kernelspec": {
   "display_name": "base",
   "language": "python",
   "name": "python3"
  },
  "language_info": {
   "codemirror_mode": {
    "name": "ipython",
    "version": 3
   },
   "file_extension": ".py",
   "mimetype": "text/x-python",
   "name": "python",
   "nbconvert_exporter": "python",
   "pygments_lexer": "ipython3",
   "version": "3.11.4"
  }
 },
 "nbformat": 4,
 "nbformat_minor": 2
}
